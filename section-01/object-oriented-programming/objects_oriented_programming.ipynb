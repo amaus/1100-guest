{
 "cells": [
  {
   "cell_type": "markdown",
   "metadata": {},
   "source": [
    "# Object Oriented Programming"
   ]
  },
  {
   "cell_type": "markdown",
   "metadata": {},
   "source": [
    "Just as we can guild things in real life out of components, we can also do so in\n",
    "our programs.\n",
    "\n",
    "We can define and use \"objects\" in our programs. We interact with them to\n",
    "accomplish the goals of our program.\n",
    "\n",
    "An **object** is a set of data along with associated functions to interact\n",
    "with that data.\n",
    "\n",
    "We've seen and used used objects before.\n",
    "\n",
    "For example:"
   ]
  },
  {
   "cell_type": "code",
   "execution_count": 1,
   "metadata": {},
   "outputs": [
    {
     "name": "stdout",
     "output_type": "stream",
     "text": [
      "Race Car\n"
     ]
    }
   ],
   "source": [
    "str1 = \"race\"\n",
    "str2 = \"car\"\n",
    "\n",
    "print(str1.capitalize() + \" \" + str2.capitalize())"
   ]
  },
  {
   "cell_type": "markdown",
   "metadata": {},
   "source": [
    "Strings are object in python! The data is the list of characters that make\n",
    "up that string, and there is a whole set of functions that we call on\n",
    "strings."
   ]
  },
  {
   "cell_type": "markdown",
   "metadata": {},
   "source": [
    "# Custom Objects"
   ]
  },
  {
   "cell_type": "markdown",
   "metadata": {},
   "source": [
    "We can define our own custom objects. We'll see how to do so, but first, why?\n",
    "\n",
    "Example:"
   ]
  },
  {
   "cell_type": "code",
   "execution_count": 4,
   "metadata": {},
   "outputs": [
    {
     "name": "stdout",
     "output_type": "stream",
     "text": [
      "Batman has attached Joker for 20 damage\n",
      "Joker has 130 hp left\n",
      "Joker has attached Batman for 21 damage\n",
      "Batman has 79 hp left\n",
      "Batman has attached Joker for 20 damage\n",
      "Joker has 110 hp left\n",
      "Joker has attached Batman for 21 damage\n",
      "Batman has 58 hp left\n",
      "Batman has attached Joker for 20 damage\n",
      "Joker has 90 hp left\n",
      "Joker has attached Batman for 21 damage\n",
      "Batman has 37 hp left\n",
      "Batman has attached Joker for 20 damage\n",
      "Joker has 70 hp left\n",
      "Joker has attached Batman for 21 damage\n",
      "Batman has 16 hp left\n",
      "Batman has attached Joker for 20 damage\n",
      "Joker has 50 hp left\n",
      "Joker has attached Batman for 21 damage\n",
      "Batman has -5 hp left\n",
      "Batman has been defeated!!!\n",
      "You loose!!\n"
     ]
    }
   ],
   "source": [
    "# a combat system for a text based adventure game\n",
    "\n",
    "hero_name = \"Batman\"\n",
    "hero_hp = 100\n",
    "hero_damage = 20\n",
    "\n",
    "villian_name = \"Joker\"\n",
    "villian_hp = 150\n",
    "villian_damage = 21\n",
    "\n",
    "# loop until there is a winner\n",
    "#   Batman will attack Joker\n",
    "#   if Joker is defeated, break out of loop\n",
    "#   Joker attack Batman\n",
    "#   If Batman is defeated, break out of loop\n",
    "\n",
    "while True:\n",
    "    villian_hp -= hero_damage\n",
    "    print(\"{} has attached {} for {} damage\".format(hero_name, villian_name, hero_damage))\n",
    "    print(\"{} has {} hp left\".format(villian_name, villian_hp))\n",
    "    if villian_hp <= 0:\n",
    "        print(\"{} has been defeated!!!\".format(villian_name))\n",
    "        print(\"You win!!\")\n",
    "        break\n",
    "    # have the villian attack the hero\n",
    "    hero_hp -= villian_damage\n",
    "    print(\"{} has attached {} for {} damage\".format(villian_name, hero_name, villian_damage))\n",
    "    print(\"{} has {} hp left\".format(hero_name, hero_hp))\n",
    "    if hero_hp <= 0:\n",
    "        print(\"{} has been defeated!!!\".format(hero_name))\n",
    "        print(\"You loose!!\")\n",
    "        break"
   ]
  },
  {
   "cell_type": "markdown",
   "metadata": {},
   "source": [
    "Our combat loop is busy, hard to read. If we were to expand, adding in new features,\n",
    "it would get even more complex and unwieldy.\n"
   ]
  },
  {
   "cell_type": "markdown",
   "metadata": {},
   "source": [
    "We can reformat by creating custom objects for our game characters"
   ]
  },
  {
   "cell_type": "markdown",
   "metadata": {},
   "source": [
    "## Defining an Object\n",
    "\n",
    "We define an object by writing a class. The class specifies:\n",
    "\n",
    "1) the data relevant to this object\n",
    "    - these are refered to as **class variables** or **instance variables**\n",
    "2) how to initialize this data\n",
    "    - this is done in a **constructor**.\n",
    "    - in Python, the constructor both defines what the instance variables are\n",
    "      and gives them initial values\n",
    "    - constructors in python are the special function `__init__()`\n",
    "3) all associated functions for this object\n",
    "\n",
    "For our game character, data is\n",
    " - name\n",
    " - hp\n",
    " - damage\n",
    "\n",
    "and we need a method to attack."
   ]
  },
  {
   "cell_type": "code",
   "execution_count": 5,
   "metadata": {},
   "outputs": [
    {
     "name": "stdout",
     "output_type": "stream",
     "text": [
      "Batman\n",
      "hp 100\n",
      "damage 20\n"
     ]
    }
   ],
   "source": [
    "class GameCharacter:\n",
    "    # the constructor\n",
    "    def __init__(self, name, hp, damage):\n",
    "        self.name = name\n",
    "        self.hp = hp\n",
    "        self.damage = damage\n",
    "\n",
    "batman = GameCharacter(\"Batman\", 100, 20)\n",
    "print(\"{}\\nhp {}\\ndamage {}\".format(batman.name, batman.hp, batman.damage))"
   ]
  }
 ],
 "metadata": {
  "kernelspec": {
   "display_name": "Python 3",
   "language": "python",
   "name": "python3"
  },
  "language_info": {
   "codemirror_mode": {
    "name": "ipython",
    "version": 3
   },
   "file_extension": ".py",
   "mimetype": "text/x-python",
   "name": "python",
   "nbconvert_exporter": "python",
   "pygments_lexer": "ipython3",
   "version": "3.9.6"
  }
 },
 "nbformat": 4,
 "nbformat_minor": 2
}
