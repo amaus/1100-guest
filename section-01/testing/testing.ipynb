{
 "cells": [
  {
   "cell_type": "markdown",
   "metadata": {},
   "source": [
    "# Testing"
   ]
  },
  {
   "cell_type": "markdown",
   "metadata": {},
   "source": [
    "The easiest way to test to manually run the program.\n",
    "\n",
    "This is tedious as programs get larger.\n",
    "\n",
    "A better way is to write an automated set of tests.\n",
    "\n",
    "In python, we use pytest."
   ]
  },
  {
   "cell_type": "markdown",
   "metadata": {},
   "source": [
    "## Pytest\n",
    "\n",
    "pytest allows us to write test functions that we can automatically run.\n",
    "\n",
    "We can build suites of test functions.\n",
    "\n",
    "With these automated tests, we can have confidence that when we change our programs, \n",
    "we will immedidately noteice anything we break and can fix it.\n",
    "\n",
    "### Installing pytest\n",
    "\n",
    "In a terminal run:\n",
    "\n",
    "`pip install pytest`\n",
    "\n",
    "You might need to use `pip3` instead\n",
    "\n",
    "`python -m pip install pytest`\n",
    "\n",
    "You might have to use `python3` instead."
   ]
  },
  {
   "cell_type": "markdown",
   "metadata": {},
   "source": [
    "## Test Driven Development\n",
    "\n",
    "First write the tests, then write the program to pass the tests.\n",
    "\n",
    "**Benefits**\n",
    "You rigorously think through your program before you write any code\n",
    "This results in more robust programs and better designed programs"
   ]
  }
 ],
 "metadata": {
  "language_info": {
   "name": "python"
  }
 },
 "nbformat": 4,
 "nbformat_minor": 2
}
