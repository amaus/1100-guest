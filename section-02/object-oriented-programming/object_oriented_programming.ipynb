{
 "cells": [
  {
   "cell_type": "markdown",
   "metadata": {},
   "source": [
    "# Object Oriented Programming"
   ]
  },
  {
   "cell_type": "markdown",
   "metadata": {},
   "source": [
    "Just as we can build things in the real world out of components, we can and\n",
    "should do the same thing in our programs.\n",
    "\n",
    "In programming, an **object** is a set of data along with associate functions\n",
    "to interact with this data.\n",
    "\n",
    "You've been using objects since the beginning of this class!"
   ]
  },
  {
   "cell_type": "code",
   "execution_count": 1,
   "metadata": {},
   "outputs": [
    {
     "name": "stdout",
     "output_type": "stream",
     "text": [
      "Race Car\n"
     ]
    }
   ],
   "source": [
    "str1 = \"car\"\n",
    "str2 = \"race\"\n",
    "\n",
    "print(str2.capitalize() + \" \" + str1.capitalize())"
   ]
  },
  {
   "cell_type": "markdown",
   "metadata": {},
   "source": [
    "# Custom Objects"
   ]
  },
  {
   "cell_type": "markdown",
   "metadata": {},
   "source": [
    "We can define our own objects and then use them to build our programs."
   ]
  },
  {
   "cell_type": "code",
   "execution_count": 5,
   "metadata": {},
   "outputs": [
    {
     "name": "stdout",
     "output_type": "stream",
     "text": [
      "Bart has attacked The Salamander King for 5 damage!\n",
      "The Salamander King has 100 hp left!\n",
      "The Salamander King has attacked Bart for 100 damage!\n",
      "Bart has 0 hp left!\n",
      "Bart has been defeated!\n",
      "Darkness wins!\n"
     ]
    }
   ],
   "source": [
    "hero_name = \"Bart\"\n",
    "hero_hp = 100\n",
    "hero_damage = 5\n",
    "\n",
    "monster_name = \"The Salamander King\"\n",
    "monster_hp = 105\n",
    "monster_damage = 100\n",
    "\n",
    "# until one of the combatants is defeated\n",
    "#   the hero will attack the monster\n",
    "#   if the monster has been defeated, quit the loop\n",
    "#   the monster will attack the hero\n",
    "#   if the hero has been defeated, quit the loop\n",
    "\n",
    "while True:\n",
    "    monster_hp -= hero_damage\n",
    "    print(\"{} has attacked {} for {} damage!\".format(hero_name, monster_name, hero_damage))\n",
    "    print(\"{} has {} hp left!\".format(monster_name, monster_hp))\n",
    "    if monster_hp <= 0:\n",
    "        print(\"{} has been defeated!\".format(monster_name))\n",
    "        print(\"You, {}, are the CHAMPION!\".format(hero_name.upper()))\n",
    "        break\n",
    "    # the monster will attack the hero\n",
    "    hero_hp -= monster_damage\n",
    "    print(\"{} has attacked {} for {} damage!\".format(monster_name, hero_name, monster_damage))\n",
    "    print(\"{} has {} hp left!\".format(hero_name, hero_hp))\n",
    "    if hero_hp <= 0:\n",
    "        print(\"{} has been defeated!\".format(hero_name))\n",
    "        print(\"Darkness wins!\")\n",
    "        break"
   ]
  },
  {
   "cell_type": "markdown",
   "metadata": {},
   "source": [
    "## Defining Objects"
   ]
  },
  {
   "cell_type": "markdown",
   "metadata": {},
   "source": [
    "We define an object by writing a class that specifies:\n",
    "\n",
    "1) the relevant data we need to track\n",
    "    - the data is refered to as **class variables** or **instance variables**\n",
    "2) how the **class variables** get their initial values\n",
    "3) all the methods that belong to this class\n",
    "\n",
    "We both specify what the class variables are and how they get their initial\n",
    "values by writing a **constructor**. The constructor is the special\n",
    "`__init__()` method in python"
   ]
  },
  {
   "cell_type": "code",
   "execution_count": 10,
   "metadata": {},
   "outputs": [
    {
     "name": "stdout",
     "output_type": "stream",
     "text": [
      "Bart\n",
      "hp: 100\n",
      "damage: 5\n",
      "The Salamander King\n",
      "hp: 105\n",
      "damage: 100\n",
      "Bart has attacked The Salamander King for 5 damage!\n",
      "The Salamander King has 100 hp left!\n",
      "The Salamander King\n",
      "hp: 100\n",
      "damage: 100\n"
     ]
    }
   ],
   "source": [
    "class GameCharacter:\n",
    "    def __init__(self, name, hp, damage):\n",
    "        self.name = name\n",
    "        self.hp = hp\n",
    "        self.damage = damage\n",
    "\n",
    "    def attack(self, other):\n",
    "        other.hp -= self.damage\n",
    "        print(\"{} has attacked {} for {} damage!\".format(self.name, other.name, self.damage))\n",
    "        print(\"{} has {} hp left!\".format(other.name, other.hp))\n",
    "\n",
    "hero = GameCharacter(\"Bart\", 100, 5)\n",
    "print(\"{}\\nhp: {}\\ndamage: {}\".format(hero.name, hero.hp, hero.damage))\n",
    "monster = GameCharacter(\"The Salamander King\", 105, 100)\n",
    "print(\"{}\\nhp: {}\\ndamage: {}\".format(monster.name, monster.hp, monster.damage))\n",
    "\n",
    "hero.attack(monster)\n",
    "print(\"{}\\nhp: {}\\ndamage: {}\".format(monster.name, monster.hp, monster.damage))"
   ]
  },
  {
   "cell_type": "code",
   "execution_count": 11,
   "metadata": {},
   "outputs": [
    {
     "name": "stdout",
     "output_type": "stream",
     "text": [
      "Bart has attacked The Salamander King for 5 damage!\n",
      "The Salamander King has 95 hp left!\n",
      "The Salamander King has attacked Bart for 100 damage!\n",
      "Bart has 0 hp left!\n",
      "Bart has been defeated!\n",
      "Darkness wins!\n"
     ]
    }
   ],
   "source": [
    "while True:\n",
    "    hero.attack(monster)\n",
    "    if monster.hp <= 0:\n",
    "        print(\"{} has been defeated!\".format(monster_name))\n",
    "        print(\"You, {}, are the CHAMPION!\".format(hero.name.upper()))\n",
    "        break\n",
    "    # the monster will attack the hero\n",
    "    monster.attack(hero)\n",
    "    if hero.hp <= 0:\n",
    "        print(\"{} has been defeated!\".format(hero.name))\n",
    "        print(\"Darkness wins!\")\n",
    "        break"
   ]
  }
 ],
 "metadata": {
  "kernelspec": {
   "display_name": "Python 3",
   "language": "python",
   "name": "python3"
  },
  "language_info": {
   "codemirror_mode": {
    "name": "ipython",
    "version": 3
   },
   "file_extension": ".py",
   "mimetype": "text/x-python",
   "name": "python",
   "nbconvert_exporter": "python",
   "pygments_lexer": "ipython3",
   "version": "3.9.6"
  }
 },
 "nbformat": 4,
 "nbformat_minor": 2
}
