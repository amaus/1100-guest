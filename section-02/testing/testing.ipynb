{
 "cells": [
  {
   "cell_type": "markdown",
   "metadata": {},
   "source": [
    "# Testing"
   ]
  },
  {
   "cell_type": "markdown",
   "metadata": {},
   "source": [
    "The natural to test program is manually, just run them.\n",
    "\n",
    "This is tedious and not exhaustive\n",
    "\n"
   ]
  },
  {
   "cell_type": "markdown",
   "metadata": {},
   "source": [
    "## Automatic Testing\n",
    "\n",
    "All modern languages provide the ability to write and run automated suites of tests."
   ]
  },
  {
   "cell_type": "markdown",
   "metadata": {},
   "source": [
    "## Pytest\n",
    "\n",
    "Pytest is python's automated testing framework.\n",
    "\n",
    "If you write a function whose name begins with \"test_\", pytest will recognize\n",
    "it as a test.\n",
    "\n",
    "### Installing pytest\n",
    "\n",
    "on your terminal run:\n",
    "\n",
    "`pip install pytest`\n",
    "\n",
    "You might need to use `pip3`\n",
    "\n",
    "`python -m pip install pytest`"
   ]
  },
  {
   "cell_type": "markdown",
   "metadata": {},
   "source": [
    "### Test Driven Development\n",
    "\n",
    "Write your tests, then write your program to pass them.\n",
    "\n",
    "This forces you to think through your program rigorously before your start writing it.\n",
    "It helps to think through the design of your program.\n",
    "\n",
    "It helps to write more robust tests (by not being biased by your implementation)\n",
    "and end up with more robust programs."
   ]
  }
 ],
 "metadata": {
  "language_info": {
   "name": "python"
  }
 },
 "nbformat": 4,
 "nbformat_minor": 2
}
